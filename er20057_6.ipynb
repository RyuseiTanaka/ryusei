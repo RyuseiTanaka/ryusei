{
  "nbformat": 4,
  "nbformat_minor": 0,
  "metadata": {
    "colab": {
      "provenance": []
    },
    "kernelspec": {
      "name": "python3",
      "display_name": "Python 3"
    },
    "language_info": {
      "name": "python"
    }
  },
  "cells": [
    {
      "cell_type": "code",
      "source": [
        "import numpy as np\n",
        "import matplotlib.pyplot as plt"
      ],
      "metadata": {
        "id": "7THsXabWHTHH"
      },
      "execution_count": 3,
      "outputs": []
    },
    {
      "cell_type": "markdown",
      "source": [
        "課題１"
      ],
      "metadata": {
        "id": "cx1PqOiKG_BI"
      }
    },
    {
      "cell_type": "code",
      "execution_count": 5,
      "metadata": {
        "colab": {
          "base_uri": "https://localhost:8080/"
        },
        "id": "RAncN_asEvaR",
        "outputId": "632f3095-013a-4aa6-8a63-d97b7369e65d"
      },
      "outputs": [
        {
          "output_type": "stream",
          "name": "stdout",
          "text": [
            "machine perception robotics-group!"
          ]
        }
      ],
      "source": [
        "a = ['m', 'c', 'i', 'e', 'p', 'r', 'e', 't', 'o', ' ', 'o', 'o', 'i', 's', 'g', 'o', 'p']\n",
        "b = ['a', 'h', 'n', ' ', 'e', 'c', 'p', 'i', 'n', 'r', 'b', 't', 'c', '-', 'r', 'u', '!']\n",
        "\n",
        "text = [x + y for x,y in zip(a,b)]\n",
        "\n",
        "for ch in text:\n",
        "        print(ch,end=\"\")"
      ]
    },
    {
      "cell_type": "markdown",
      "source": [
        "課題２"
      ],
      "metadata": {
        "id": "1GWcOmDdHHjf"
      }
    },
    {
      "cell_type": "code",
      "source": [
        "math = np.array([40, 15, 72, 22, 43, 82, 75, 7, 34, 49, 95, 75, 85, 47, 63])\n",
        "\n",
        "count = len([x for x in math if x >= 70])\n",
        "\n",
        "print(count)"
      ],
      "metadata": {
        "colab": {
          "base_uri": "https://localhost:8080/"
        },
        "id": "zopW21jEHI3U",
        "outputId": "d72c5eec-aebc-4c0c-e6a8-0a4f95bd678e"
      },
      "execution_count": 4,
      "outputs": [
        {
          "output_type": "stream",
          "name": "stdout",
          "text": [
            "6\n"
          ]
        }
      ]
    },
    {
      "cell_type": "markdown",
      "source": [
        "課題３"
      ],
      "metadata": {
        "id": "dwWCV5mHHORq"
      }
    },
    {
      "cell_type": "code",
      "source": [
        "def sigmoid(x):\n",
        "    return 1 / (1 + np.exp(-x))\n",
        "\n",
        "def softmax(x):\n",
        "    exp_x = np.exp(x)\n",
        "    return exp_x / np.sum(exp_x)\n",
        "\n",
        "def tanh(x):\n",
        "    return np.tanh(x)\n",
        "\n",
        "x = np.arange(-5.0, 5.0, 0.1)\n",
        "y_sigmoid = sigmoid(x)\n",
        "y_softmax = softmax(x)\n",
        "y_tanh = tanh(x)\n",
        "\n",
        "fig,ax = plt.subplots()\n",
        "plt.plot(x, y_sigmoid, label='sigmoid')\n",
        "plt.plot(x, y_softmax, label='softmax')\n",
        "plt.plot(x, y_tanh, label='tanh')\n",
        "plt.ylim(-1.2, 1.2)\n",
        "plt.xlabel('x')\n",
        "plt.ylabel('y')\n",
        "plt.title('Sigmoid, Softmax, Tanh Functions')\n",
        "plt.legend()\n",
        "plt.show()"
      ],
      "metadata": {
        "colab": {
          "base_uri": "https://localhost:8080/",
          "height": 295
        },
        "id": "fukdxeAhHPg0",
        "outputId": "a90cc78e-78ff-46e6-adfd-e66465fcb52b"
      },
      "execution_count": 7,
      "outputs": [
        {
          "output_type": "display_data",
          "data": {
            "text/plain": [
              "<Figure size 432x288 with 1 Axes>"
            ],
            "image/png": "[encoded data removed]"
          },
          "metadata": {
            "needs_background": "light"
          }
        }
      ]
    }
  ]
}